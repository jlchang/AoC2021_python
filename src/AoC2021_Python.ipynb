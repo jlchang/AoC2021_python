{
 "cells": [
  {
   "cell_type": "markdown",
   "metadata": {},
   "source": [
    "# Avent of Code 2021"
   ]
  },
  {
   "cell_type": "markdown",
   "metadata": {},
   "source": [
    "## Github setup\n",
    "* create repo in github\n",
    "git init -b main\n",
    "git commit -m \"first commit\"\n",
    "git remote add origin https://github.com/jlchang/AoC2021_python.git\n",
    "git push origin main"
   ]
  },
  {
   "cell_type": "markdown",
   "metadata": {},
   "source": [
    "### HowTo download input file\n",
    "* get session string from browser cookie\n",
    "* set up session token in hidden local file \".aoc_token\" <- add to .gitignore\n",
    "* set up `export AOC_SESSION=<session string>`"
   ]
  },
  {
   "cell_type": "code",
   "execution_count": null,
   "metadata": {},
   "outputs": [],
   "source": [
    "%%bash\n",
    "cd ..\n",
    "source .aoc_token\n",
    "curl 'https://adventofcode.com/2021/day/5/input' -X GET -H \"Cookie: session=$AOC_SESSION\" > day05.txt`"
   ]
  },
  {
   "cell_type": "code",
   "execution_count": 1,
   "metadata": {},
   "outputs": [
    {
     "name": "stdout",
     "output_type": "stream",
     "text": [
      "1715\n"
     ]
    }
   ],
   "source": [
    "### Day 1, part 1\n",
    "file = open(\"../data/day01.txt\", \"r\")\n",
    "data = file.readlines()\n",
    "file.close()\n",
    "increase_count = 0\n",
    "for x,y in zip(data, data[1:]):\n",
    "  if int(y) > int(x):\n",
    "    increase_count += 1\n",
    "print(increase_count)"
   ]
  },
  {
   "cell_type": "code",
   "execution_count": 32,
   "metadata": {},
   "outputs": [
    {
     "name": "stdout",
     "output_type": "stream",
     "text": [
      "1739\n"
     ]
    }
   ],
   "source": [
    "### Day 1, part 2\n",
    "file = open(\"../data/day01.txt\", \"r\")\n",
    "data = file.readlines()\n",
    "file.close()\n",
    "increase_count = 0\n",
    "for x,y in zip(data, data[3:]):\n",
    "  if int(y) > int(x):\n",
    "    increase_count += 1\n",
    "print(increase_count)"
   ]
  },
  {
   "cell_type": "code",
   "execution_count": 20,
   "metadata": {},
   "outputs": [
    {
     "name": "stdout",
     "output_type": "stream",
     "text": [
      "1635930\n"
     ]
    }
   ],
   "source": [
    "### Day 2, part 1\n",
    "import re\n",
    "\n",
    "file = open(\"../data/day02.txt\", \"r\")\n",
    "data = file.readlines()\n",
    "file.close()\n",
    "position = 0\n",
    "depth = 0\n",
    "for line in data:\n",
    "  parse = re.search('(\\w+) (\\d)$', line)\n",
    "  if parse.group(1) == \"forward\":\n",
    "    position += int(parse.group(2))\n",
    "  elif parse.group(1) == \"up\":\n",
    "    depth -= int(parse.group(2))\n",
    "  elif parse.group(1) == \"down\":\n",
    "    depth += int(parse.group(2))\n",
    "  else:\n",
    "    print(f'did find known keyword in {line}')\n",
    "print(position*depth)"
   ]
  },
  {
   "cell_type": "code",
   "execution_count": 23,
   "metadata": {},
   "outputs": [
    {
     "name": "stdout",
     "output_type": "stream",
     "text": [
      "1781819478\n"
     ]
    }
   ],
   "source": [
    "### Day 2, part 2\n",
    "file = open(\"../data/day02.txt\", \"r\")\n",
    "data = file.readlines()\n",
    "file.close()\n",
    "position = 0\n",
    "depth = 0\n",
    "aim = 0\n",
    "for line in data:\n",
    "  parse = re.search('(\\w+) (\\d)$', line)\n",
    "  if parse.group(1) == \"forward\":\n",
    "    position += int(parse.group(2))\n",
    "    depth += aim * int(parse.group(2))\n",
    "  elif parse.group(1) == \"up\":\n",
    "    aim -= int(parse.group(2))\n",
    "  elif parse.group(1) == \"down\":\n",
    "    aim += int(parse.group(2))\n",
    "  else:\n",
    "    print(f'did find known keyword in {line}')\n",
    "print(position*depth)"
   ]
  },
  {
   "cell_type": "code",
   "execution_count": 20,
   "metadata": {},
   "outputs": [
    {
     "name": "stdout",
     "output_type": "stream",
     "text": [
      "1540244\n"
     ]
    }
   ],
   "source": [
    "### Day 3, part 1\n",
    "import pandas as pd\n",
    "file = open(\"../data/day03.txt\", \"r\")\n",
    "string_length = 12  # 5 for test data\n",
    "data = file.readlines()\n",
    "file.close()\n",
    "gamma_data = ''\n",
    "epsilon_data = ''\n",
    "df = pd.DataFrame(columns=(range(string_length)))\n",
    "for i, line in enumerate(data):\n",
    "  clean_line = line.rstrip('\\n')\n",
    "  df.loc[i]  = [char for char in clean_line]\n",
    "for j in range(string_length):\n",
    "  gamma_data += df[j].value_counts().idxmax()\n",
    "  epsilon_data += df[j].value_counts().idxmin()\n",
    "gamma = int(gamma_data, 2)\n",
    "epsilon = int(epsilon_data, 2)\n",
    "power = gamma * epsilon\n",
    "print(power) "
   ]
  },
  {
   "cell_type": "code",
   "execution_count": 107,
   "metadata": {},
   "outputs": [
    {
     "name": "stdout",
     "output_type": "stream",
     "text": [
      "converged at round 12, on 010010001001 or decimal 1161\n",
      "converged at round 9, on 111000100101 or decimal 3621\n",
      "4203981\n"
     ]
    }
   ],
   "source": [
    "### Day 3, part 2\n",
    "import pandas as pd\n",
    "file = open(\"../data/day03.txt\", \"r\")\n",
    "string_length = 12  # 5 for test data; 12 for input data\n",
    "data = file.readlines()\n",
    "file.close()\n",
    "gamma_data = ''\n",
    "epsilon_data = ''\n",
    "df = pd.DataFrame(columns=(range(string_length)))\n",
    "for i, line in enumerate(data):\n",
    "  clean_line = line.rstrip('\\n')\n",
    "  df.loc[i]  = [char for char in clean_line]\n",
    "\n",
    "def find_rating(df, tie_breaker, mask, count, method):\n",
    "  if len(df[mask].index) == 1:\n",
    "    rating = ''\n",
    "    for j in range(string_length):\n",
    "      rating += df[mask][j].values[0]\n",
    "    print(f'converged at round {count}, on {rating} or decimal {int(rating, 2)}')\n",
    "    return int(rating, 2)\n",
    "  else:\n",
    "    if method == 'max':\n",
    "      criteria = df[mask][count].mode()\n",
    "      criteria = tie_breaker if (len(criteria) > 1) else df[mask][count].mode()[0]\n",
    "    else:\n",
    "      criteria = df[mask][count].value_counts().idxmin()\n",
    "      criteria = tie_breaker if (len(criteria) > 1) else df[mask][count].value_counts().idxmin()\n",
    "    addnl_mask = df[mask][count] == criteria\n",
    "    new_mask = addnl_mask if all(mask) else (mask & addnl_mask)\n",
    "    # print(f'matrix to assess column {count + 1}, chosen by {criteria}')\n",
    "    # print(df[new_mask])\n",
    "    return find_rating(df, tie_breaker, new_mask, count+1, method)\n",
    "mask = [True] * len(df.index)\n",
    "o_rate = find_rating(df, '1', mask, 0, 'max')\n",
    "c_rate = find_rating(df, '0', mask, 0, 'min')\n",
    "life_support_rating = o_rate * c_rate\n",
    "print(life_support_rating)"
   ]
  },
  {
   "cell_type": "code",
   "execution_count": 206,
   "metadata": {},
   "outputs": [
    {
     "name": "stdout",
     "output_type": "stream",
     "text": [
      "card 90 won on turn 13 with winning draw 10\n",
      "Final Score: 10680\n"
     ]
    }
   ],
   "source": [
    "### Day 4, part 1\n",
    "import pandas as pd\n",
    "file = open(\"../data/day04.txt\", \"r\")\n",
    "draw_info = file.readline()\n",
    "draws = [int(draw) for draw in draw_info.split(',')]\n",
    "# print(draws)\n",
    "card_info = file.readlines()\n",
    "count = 0\n",
    "cards = []\n",
    "hits = []\n",
    "end_point = len(card_info)\n",
    "for line_number, line in enumerate(card_info):\n",
    "  clean_line = line.rstrip('\\n')\n",
    "  # print(f'evaluating clean_line:\\'{clean_line}\\'')\n",
    "  if not clean_line:\n",
    "    # print(f'starting card {count}')\n",
    "    i = 0\n",
    "    if count > 0:\n",
    "      # print(df)\n",
    "      cards.append(df)\n",
    "      # print(cards)\n",
    "      continue\n",
    "    else:\n",
    "      count +=1\n",
    "  else:\n",
    "    numbers = clean_line.split()\n",
    "    # print(numbers)\n",
    "    if i == 0:\n",
    "      df = pd.DataFrame(columns=(range(len(numbers))))\n",
    "      hits.append(pd.DataFrame(columns=(range(len(numbers)))))\n",
    "    df.loc[i]  = [int(number) for number in numbers]\n",
    "    # print(df)\n",
    "    i += 1\n",
    "    if line_number == end_point - 1:\n",
    "      cards.append(df)\n",
    "file.close()\n",
    "\n",
    "def is_winning_card(marks):\n",
    "  column_wins = False\n",
    "  row_wins = False\n",
    "  for i in marks.columns:\n",
    "    if marks[:][i].all():\n",
    "      column_wins = True\n",
    "  # for i in marks.index:\n",
    "  #   if marks.iloc[i, :].all():\n",
    "  #     row_wins = True\n",
    "  # above comment is functionally equivalent to below using\n",
    "  # matrix reduction to rows using axis parameter, check if any rows have all True\n",
    "  if marks.all(axis=1).any():\n",
    "    row_wins = True\n",
    "  return True if (row_wins or column_wins) else False\n",
    "called = []\n",
    "won = False\n",
    "for turn, draw in enumerate(draws):\n",
    "  if won:\n",
    "    break\n",
    "  called.append(draw)\n",
    "  for index, card in enumerate(cards):\n",
    "    marked_card = card.isin(called)\n",
    "    # print(marked_card)\n",
    "    hits[index] = marked_card\n",
    "    if is_winning_card(marked_card):\n",
    "      won = True\n",
    "      print(f'card {index} won on turn {turn} with winning draw {draw}')\n",
    "      sum = cards[index][~marked_card].sum().sum()\n",
    "      final_score = sum * draw\n",
    "      print(f'Final Score: {final_score}')\n",
    "      break\n"
   ]
  },
  {
   "cell_type": "code",
   "execution_count": 221,
   "metadata": {},
   "outputs": [
    {
     "name": "stdout",
     "output_type": "stream",
     "text": [
      "Final Score for last card to win: 31892\n"
     ]
    }
   ],
   "source": [
    "### Day 4, part 2\n",
    "import pandas as pd\n",
    "from collections import OrderedDict\n",
    "file = open(\"../data/day04.txt\", \"r\")\n",
    "draw_info = file.readline()\n",
    "draws = [int(draw) for draw in draw_info.split(',')]\n",
    "# print(draws)\n",
    "card_info = file.readlines()\n",
    "count = 0\n",
    "cards = []\n",
    "hits = []\n",
    "end_point = len(card_info)\n",
    "for line_number, line in enumerate(card_info):\n",
    "  clean_line = line.rstrip('\\n')\n",
    "  # print(f'evaluating clean_line:\\'{clean_line}\\'')\n",
    "  if not clean_line:\n",
    "    # print(f'starting card {count}')\n",
    "    i = 0\n",
    "    if count > 0:\n",
    "      # print(df)\n",
    "      cards.append(df)\n",
    "      # print(cards)\n",
    "      continue\n",
    "    else:\n",
    "      count +=1\n",
    "  else:\n",
    "    numbers = clean_line.split()\n",
    "    # print(numbers)\n",
    "    if i == 0:\n",
    "      df = pd.DataFrame(columns=(range(len(numbers))))\n",
    "      hits.append(pd.DataFrame(columns=(range(len(numbers)))))\n",
    "    df.loc[i]  = [int(number) for number in numbers]\n",
    "    # print(df)\n",
    "    i += 1\n",
    "    if line_number == end_point - 1:\n",
    "      cards.append(df)\n",
    "file.close()\n",
    "\n",
    "def is_winning_card(marks):\n",
    "  column_wins = False\n",
    "  row_wins = False\n",
    "  for i in marks.columns:\n",
    "    if marks[:][i].all():\n",
    "      column_wins = True\n",
    "  # for i in marks.index:\n",
    "  #   if marks.iloc[i, :].all():\n",
    "  #     row_wins = True\n",
    "  # above comment is functionally equivalent to below using\n",
    "  # matrix reduction to rows using axis parameter, check if any rows have all True\n",
    "  if marks.all(axis=1).any():\n",
    "    row_wins = True\n",
    "  return True if (row_wins or column_wins) else False\n",
    "called = []\n",
    "winning_masks = {}\n",
    "winning_draws = {}\n",
    "winners = []\n",
    "for turn, draw in enumerate(draws):\n",
    "  called.append(draw)\n",
    "  # print(f'Turn {turn}')\n",
    "  for index, card in enumerate(cards):\n",
    "    marked_card = card.isin(called)\n",
    "    # print(marked_card)\n",
    "    hits[index] = marked_card\n",
    "    if is_winning_card(marked_card):\n",
    "      won = True\n",
    "      if index not in winning_masks.keys():\n",
    "        # print(f'card {index} won on turn {turn} with winning draw {draw}')\n",
    "        winners.append(index)\n",
    "        winning_masks[index] = marked_card\n",
    "        winning_draws[index] = draw\n",
    "  if len(winners) == len(cards):\n",
    "    break\n",
    "\n",
    "# print(winners)\n",
    "winner = winners[-1]\n",
    "# print(cards[winner])\n",
    "# print(cards[winner][~winning_masks[winner]])\n",
    "sum = cards[winner][~winning_masks[winner]].sum().sum()\n",
    "final_score = sum * winning_draws[winner]\n",
    "print(f'Final Score for last card to win: {final_score}')"
   ]
  },
  {
   "cell_type": "code",
   "execution_count": 222,
   "metadata": {},
   "outputs": [],
   "source": [
    "### scratch space\n",
    "import pandas as pd\n",
    "file = open(\"../data/day03_test.txt\", \"r\")\n",
    "string_length = 5  # 5 for test data\n",
    "data = file.readlines()\n",
    "file.close()\n",
    "\n",
    "df = pd.DataFrame(columns=(range(string_length)))\n",
    "for i, line in enumerate(data):\n",
    "  clean_line = line.rstrip('\\n')\n",
    "  df.loc[i]  = [char for char in clean_line]\n",
    "mask = [True] * len(df.index)\n",
    "# print(len(df.index))\n",
    "# #print(df[mask])\n",
    "# print(len(df[mask].index))"
   ]
  },
  {
   "cell_type": "code",
   "execution_count": null,
   "metadata": {},
   "outputs": [],
   "source": [
    "### Day x, part 1\n",
    "file = open(\"../data/day0X_test.txt\", \"r\")\n",
    "data = file.readlines()\n",
    "file.close()"
   ]
  }
 ],
 "metadata": {
  "interpreter": {
   "hash": "31f2aee4e71d21fbe5cf8b01ff0e069b9275f58929596ceb00d14d90e3e16cd6"
  },
  "kernelspec": {
   "display_name": "Python 3.8.2 64-bit",
   "language": "python",
   "name": "python3"
  },
  "language_info": {
   "codemirror_mode": {
    "name": "ipython",
    "version": 3
   },
   "file_extension": ".py",
   "mimetype": "text/x-python",
   "name": "python",
   "nbconvert_exporter": "python",
   "pygments_lexer": "ipython3",
   "version": "3.9.7"
  },
  "orig_nbformat": 4
 },
 "nbformat": 4,
 "nbformat_minor": 2
}
