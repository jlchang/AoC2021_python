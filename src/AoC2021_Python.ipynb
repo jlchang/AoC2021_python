{
 "cells": [
  {
   "cell_type": "markdown",
   "metadata": {},
   "source": [
    "# Avent of Code 2021"
   ]
  },
  {
   "cell_type": "markdown",
   "metadata": {},
   "source": [
    "### HowTo download input file\n",
    "* get session string from browser cookie (https://github.com/wimglenn/advent-of-code-wim/issues/1)\n",
    "* set up session token in hidden local file \".aoc_token\" <- add to .gitignore\n",
    "* set up `eyport AOC_SESSION=<session string>`"
   ]
  },
  {
   "cell_type": "code",
   "execution_count": 4,
   "metadata": {},
   "outputs": [
    {
     "name": "stderr",
     "output_type": "stream",
     "text": [
      "  % Total    % Received % Xferd  Average Speed   Time    Time     Time  Current\n",
      "                                 Dload  Upload   Total   Spent    Left  Speed\n",
      "100 17000  100 17000    0     0  85427      0 --:--:-- --:--:-- --:--:-- 85427\n"
     ]
    }
   ],
   "source": [
    "%%bash\n",
    "source ../.aoc_token\n",
    "day=9\n",
    "curl \"https://adventofcode.com/2021/day/$day/input\" -X GET -H \"Cookie: session=$AOC_SESSION\" > ../data/day0$day.txt\n",
    "touch ../data/day0${day}_test.txt"
   ]
  },
  {
   "cell_type": "code",
   "execution_count": null,
   "metadata": {},
   "outputs": [],
   "source": [
    "### Day X, part 1\n",
    "file = open(\"../data/day0x_test.txt\", \"r\")\n",
    "data = file.readlines()\n",
    "file.close()"
   ]
  },
  {
   "cell_type": "code",
   "execution_count": 17,
   "metadata": {},
   "outputs": [
    {
     "name": "stdout",
     "output_type": "stream",
     "text": [
      "sum 284\n"
     ]
    }
   ],
   "source": [
    "### Day 8, part 1\n",
    "file = open(\"../data/day08.txt\", \"r\")\n",
    "data = file.readlines()\n",
    "file.close()\n",
    "one = four = seven = eight = 0\n",
    "for line in data:\n",
    "  signal, output = line.split('|')\n",
    "  outputs = output.split()\n",
    "  # should try a dictionary for the if + assignment\n",
    "  for digit in outputs:\n",
    "    if len(digit) == 2:\n",
    "      one +=1\n",
    "    elif len(digit) == 4:\n",
    "      four +=1\n",
    "    elif len(digit) == 3:\n",
    "      seven +=1\n",
    "    elif len(digit) == 7:\n",
    "      eight +=1\n",
    "    else:\n",
    "      pass\n",
    "print(f'sum {one + four + seven + eight}')\n"
   ]
  },
  {
   "cell_type": "code",
   "execution_count": 65,
   "metadata": {},
   "outputs": [
    {
     "name": "stdout",
     "output_type": "stream",
     "text": [
      "973499\n"
     ]
    }
   ],
   "source": [
    "### Day 8, part 2\n",
    "file = open(\"../data/day08.txt\", \"r\")\n",
    "data = file.readlines()\n",
    "file.close()\n",
    "one = two = four = seven = eight = 0\n",
    "\n",
    "solution_data = []\n",
    "for line in data:\n",
    "  # print(line)\n",
    "  signal, output = line.split('|')\n",
    "  outputs = output.split()\n",
    "  signals = signal.split()\n",
    "  digits = {\n",
    "    0: '',\n",
    "    1: '',\n",
    "    2: '',\n",
    "    3: '',\n",
    "    4: '',\n",
    "    5: '',\n",
    "    6: '',\n",
    "    7: '',\n",
    "    8: '',\n",
    "    9: ''\n",
    "  }\n",
    "  fives = []\n",
    "  sixes = []\n",
    "  # print(signals)\n",
    "  for word in list(signals):\n",
    "    if len(word) == 2:\n",
    "      digits[1] = word\n",
    "      # print(f'one {digits[1]}')\n",
    "    elif len(word) == 4:\n",
    "      digits[4] = word\n",
    "      # print(f'four {digits[4]}')\n",
    "    elif len(word) == 3:\n",
    "      digits[7] = word\n",
    "      # print(f'seven {digits[7]}')\n",
    "    elif len(word) == 7:\n",
    "      digits[8] = word\n",
    "      # print(f'eight {digits[8]}')\n",
    "    elif len(word) == 5:\n",
    "      fives.append(word)\n",
    "      # print(f'fives {fives}')\n",
    "    elif len(word) == 6:\n",
    "      sixes.append(word)\n",
    "      # print(f'sixes {sixes}')\n",
    "    else:\n",
    "      print(f'invalid word {word}')\n",
    "  \n",
    " \n",
    "\n",
    "  def find_letter(letter, lst):\n",
    "    return any(letter in word for word in lst)\n",
    "\n",
    "  for word in fives:\n",
    "    # print(f'testing fives {word}')\n",
    "    if find_letter(digits[1][0], word) and find_letter(digits[1][1], word):\n",
    "      digits[3] = word\n",
    "      # print(f'three {digits[3]}')\n",
    "  for word in sixes:\n",
    "    # print(f'testing sixes {word}')\n",
    "    if not find_letter(digits[1][0], word) or not find_letter(digits[1][1], word):\n",
    "      digits[6] = word\n",
    "      # print(f'six {digits[6]}')\n",
    "  for letter in digits[1]:\n",
    "    if not find_letter(letter, digits[6]):\n",
    "      c = letter\n",
    "      # print(f'c {letter}')\n",
    "  for word in fives:\n",
    "    if not find_letter(c, word):\n",
    "      digits[5] = word\n",
    "      # print(f'five {digits[5]}')\n",
    "  for word in fives:\n",
    "    if word != digits[5] and word != digits[3]:\n",
    "      digits[2] = word\n",
    "      # print(f'two {digits[2]}')\n",
    "  bd = []\n",
    "  for character in list(digits[4]):\n",
    "    if character not in list(digits[1]):\n",
    "      bd.append(character)\n",
    "  # print(f'bd {bd}')\n",
    "  for word in sixes:\n",
    "    # print(f'testing sixes {word}')\n",
    "    if not find_letter(bd[0], word) or not find_letter(bd[1], word):\n",
    "      digits[0] = word\n",
    "      # print(f'zero {digits[0]}')\n",
    "  for word in sixes:\n",
    "    if word != digits[0] and word != digits[6]:\n",
    "      digits[9] = word\n",
    "      # print(f'nine {digits[9]}')\n",
    "  decoded_output = ''\n",
    "  for datum in outputs:\n",
    "    # print(f'datum \\\"{datum}\\\"')\n",
    "    key = next(key for key, value in digits.items() if set(value) == set(datum))\n",
    "    decoded_output += str(key)\n",
    "  # print(f'{outputs}:{decoded_output}')\n",
    "  solution_data.append(int(decoded_output))\n",
    "print(sum(solution_data))\n",
    "            \n"
   ]
  },
  {
   "cell_type": "code",
   "execution_count": 19,
   "metadata": {},
   "outputs": [
    {
     "name": "stdout",
     "output_type": "stream",
     "text": [
      "354564\n"
     ]
    }
   ],
   "source": [
    "### Day 6, part 1\n",
    "# yup, I failed to consider the exponential part, even though the problem said the growth was exponential\n",
    "# but this is indeed how I did part one...\n",
    "import numpy as np\n",
    "data = np.loadtxt(\"../data/day06.txt\", delimiter=\",\")\n",
    "days = 80\n",
    "for day in range(days - 1):\n",
    "  data -= 1\n",
    "  # print(f'After {day +1} day(0): {data}')\n",
    "  new_fish=np.count_nonzero(data==0)\n",
    "  data = np.where(data == 0, 7, data)\n",
    "  data = np.append(data, np.ones(new_fish)* 9)\n",
    "print(len(data))\n"
   ]
  },
  {
   "cell_type": "code",
   "execution_count": 47,
   "metadata": {},
   "outputs": [
    {
     "name": "stdout",
     "output_type": "stream",
     "text": [
      "After 1 day(0): [2. 3. 2. 0. 1.]\n",
      "After 2 day(0): [1. 2. 1. 6. 0. 8.]\n",
      "After 3 day(0): [0. 1. 0. 5. 6. 7. 8.]\n",
      "After 4 day(0): [6. 0. 6. 4. 5. 6. 7. 8.]\n",
      "After 5 day(0): [5. 6. 5. 3. 4. 5. 6. 7. 8.]\n",
      "After 6 day(0): [4. 5. 4. 2. 3. 4. 5. 6. 7.]\n",
      "After 7 day(0): [3. 4. 3. 1. 2. 3. 4. 5. 6.]\n",
      "After 8 day(0): [2. 3. 2. 0. 1. 2. 3. 4. 5.]\n",
      "After 9 day(0): [1. 2. 1. 6. 0. 1. 2. 3. 4. 8.]\n",
      "After 10 day(0): [0. 1. 0. 5. 6. 0. 1. 2. 3. 7. 8.]\n",
      "After 11 day(0): [6. 0. 6. 4. 5. 6. 0. 1. 2. 6. 7. 8.]\n",
      "[1 6]\n",
      "After 12 day(0): [5. 6. 5. 3. 4. 5. 6. 0. 1. 5. 6. 7. 8.]\n",
      "[7]\n",
      "After 13 day(0): [4. 5. 4. 2. 3. 4. 5. 6. 0. 4. 5. 6. 7. 8.]\n",
      "[8]\n",
      "increase 1 by 2?\n",
      "After 14 day(0): [3. 4. 3. 1. 2. 3. 4. 5. 6. 3. 4. 5. 6. 7. 8.]\n",
      "After 15 day(0): [2. 3. 2. 0. 1. 2. 3. 4. 5. 2. 3. 4. 5. 6. 7.]\n",
      "After 16 day(0): [1. 2. 1. 6. 0. 1. 2. 3. 4. 1. 2. 3. 4. 5. 6. 8.]\n",
      "After 17 day(0): [0. 1. 0. 5. 6. 0. 1. 2. 3. 0. 1. 2. 3. 4. 5. 7. 8.]\n",
      "[0 2 5 9]\n",
      "[1, 1, 2, 1, 0, 0, 0, 1, 1, 3, 2, 1, 2, 0, 1, 1, 4]\n",
      "39\n"
     ]
    }
   ],
   "source": [
    "### Day 6, part 1\n",
    "import numpy as np\n",
    "data = np.loadtxt(\"../data/day06_test.txt\", delimiter=\",\")\n",
    "days = 18\n",
    "progeny_tracker = []\n",
    "for day in range(days-1):\n",
    "  data -= 1\n",
    "  print(f'After {day +1} day(0): {data}')\n",
    "  new_fish=np.count_nonzero(data==0)\n",
    "  multipliers = np.where(data==0)\n",
    "  if multipliers:\n",
    "    for n in multipliers[0]:\n",
    "      if n > 5:\n",
    "        print(multipliers[0])\n",
    "        if progeny_tracker[n-6] > 1:\n",
    "          print(f\"increase {new_fish} by {progeny_tracker[n-6]}?\")\n",
    "          new_fish += (new_fish + (progeny_tracker[n-5]-1))\n",
    "  progeny_tracker.append(new_fish)\n",
    "  data = np.where(data == 0, 7, data)\n",
    "  if new_fish:\n",
    "    data = np.append(data, 9)\n",
    "orig_fish = len(data)\n",
    "all_progeny=sum(progeny_tracker)\n",
    "print(progeny_tracker)\n",
    "print(orig_fish + all_progeny)\n",
    "\n"
   ]
  },
  {
   "cell_type": "code",
   "execution_count": 69,
   "metadata": {},
   "outputs": [
    {
     "name": "stdout",
     "output_type": "stream",
     "text": [
      "making matrix with dims: 10, 10\n",
      "[[0. 0. 0. 0. 0. 0. 0. 1. 0. 0.]\n",
      " [0. 0. 1. 0. 0. 0. 0. 1. 0. 0.]\n",
      " [0. 0. 1. 0. 0. 0. 0. 1. 0. 0.]\n",
      " [0. 0. 0. 0. 0. 0. 0. 1. 0. 0.]\n",
      " [0. 1. 1. 2. 1. 1. 1. 2. 1. 1.]\n",
      " [0. 0. 0. 0. 0. 0. 0. 0. 0. 0.]\n",
      " [0. 0. 0. 0. 0. 0. 0. 0. 0. 0.]\n",
      " [0. 0. 0. 0. 0. 0. 0. 0. 0. 0.]\n",
      " [0. 0. 0. 0. 0. 0. 0. 0. 0. 0.]\n",
      " [2. 2. 2. 1. 1. 1. 0. 0. 0. 0.]]\n",
      "5\n"
     ]
    }
   ],
   "source": [
    "### Day 5, part 1\n",
    "import numpy as np\n",
    "file = open(\"../data/day05_test.txt\", \"r\")\n",
    "\n",
    "input = ()\n",
    "lines = []\n",
    "xs = []\n",
    "ys = []\n",
    "for row in file:\n",
    "  clean_row = row.rstrip('\\n')\n",
    "  a,b = clean_row.split(' -> ')\n",
    "  lines.append([[int(x) for x in a.split(',')],[int(x) for x in b.split(',')]])\n",
    "  xs.append(lines[-1][0][0])\n",
    "  xs.append(lines[-1][1][0])\n",
    "  ys.append(lines[-1][0][1])\n",
    "  ys.append(lines[-1][1][1])\n",
    "file.close()\n",
    "\n",
    "max_x = max(xs) + 1\n",
    "max_y = max(ys) + 1\n",
    "print(f'making matrix with dims: {max_x}, {max_y}')\n",
    "df = np.zeros((max_x, max_y))\n",
    "\n",
    "for line in lines:\n",
    "  [[x1,y1],[x2,y2]] = line\n",
    "  x_direction = 1 if x2 > x1 else -1\n",
    "  x_end = x2 +1 if x_direction == 1 else x2 - 1\n",
    "  y_direction = 1 if y2 > y1 else -1\n",
    "  y_end = y2 +1 if y_direction == 1 else y2 - 1\n",
    "  #flipped x,y in numpy matrix so viz matches A0C example orientation\n",
    "  if (x1 == x2 and y1 == y2):\n",
    "      df[y1][x1] += 1\n",
    "  elif x1 == x2:\n",
    "    for i in range(y1,y_end,y_direction):\n",
    "      df[i][x1] += 1\n",
    "  elif y1 == y2:\n",
    "    for i in range(x1,x_end,x_direction):\n",
    "      df[y1][i] += 1\n",
    "  else:\n",
    "    #not doing diagonals right now\n",
    "    pass\n",
    "points = df > 1.0 \n",
    "print(df)\n",
    "print(sum(sum(points)))\n"
   ]
  },
  {
   "cell_type": "code",
   "execution_count": 67,
   "metadata": {},
   "outputs": [
    {
     "name": "stdout",
     "output_type": "stream",
     "text": [
      "making df of dims 990, 990\n",
      "[[0. 0. 0. ... 0. 0. 0.]\n",
      " [0. 0. 0. ... 0. 0. 0.]\n",
      " [0. 0. 0. ... 0. 0. 0.]\n",
      " ...\n",
      " [0. 0. 0. ... 0. 0. 0.]\n",
      " [0. 0. 0. ... 0. 0. 0.]\n",
      " [0. 0. 0. ... 0. 0. 0.]]\n",
      "15463\n"
     ]
    }
   ],
   "source": [
    "### Day 5, part 2\n",
    "import numpy as np\n",
    "file = open(\"../data/day05.txt\", \"r\")\n",
    "\n",
    "input = ()\n",
    "lines = []\n",
    "xs = []\n",
    "ys = []\n",
    "for row in file:\n",
    "  clean_row = row.rstrip('\\n')\n",
    "  a,b = clean_row.split(' -> ')\n",
    "  lines.append([[int(x) for x in a.split(',')],[int(x) for x in b.split(',')]])\n",
    "  xs.append(lines[-1][0][0])\n",
    "  xs.append(lines[-1][1][0])\n",
    "  ys.append(lines[-1][0][1])\n",
    "  ys.append(lines[-1][1][1])\n",
    "file.close()\n",
    "\n",
    "\n",
    "max_x = max(xs) + 1\n",
    "max_y = max(ys) + 1\n",
    "print(f'making df of dims {max_x}, {max_y}')\n",
    "df = np.zeros((max_x, max_y))\n",
    "\n",
    "for line in lines:\n",
    "  [[x1,y1],[x2,y2]] = line\n",
    "  x_direction = 1 if x2 > x1 else -1\n",
    "  x_end = x2 +1 if x_direction == 1 else x2 - 1\n",
    "  y_direction = 1 if y2 > y1 else -1\n",
    "  y_end = y2 +1 if y_direction == 1 else y2 - 1\n",
    "  if (x1 == x2 and y1 == y2):\n",
    "      df[y1][x1] += 1\n",
    "  elif x1 == x2:\n",
    "    for i in range(y1,y_end,y_direction):\n",
    "      df[i][x1] += 1\n",
    "  elif y1 == y2:\n",
    "    for i in range(x1,x_end,x_direction):\n",
    "      df[y1][i] += 1\n",
    "  else:\n",
    "    for i, j in zip(range(x1,x_end,x_direction),range(y1,y_end,y_direction)):\n",
    "      df[j][i] += 1\n",
    "points = df > 1.0 \n",
    "print(df)\n",
    "print(sum(sum(points)))\n"
   ]
  },
  {
   "cell_type": "code",
   "execution_count": 206,
   "metadata": {},
   "outputs": [
    {
     "name": "stdout",
     "output_type": "stream",
     "text": [
      "card 90 won on turn 13 with winning draw 10\n",
      "Final Score: 10680\n"
     ]
    }
   ],
   "source": [
    "### Day 4, part 1\n",
    "import pandas as pd\n",
    "file = open(\"../data/day04.txt\", \"r\")\n",
    "draw_info = file.readline()\n",
    "draws = [int(draw) for draw in draw_info.split(',')]\n",
    "# print(draws)\n",
    "card_info = file.readlines()\n",
    "count = 0\n",
    "cards = []\n",
    "hits = []\n",
    "end_point = len(card_info)\n",
    "for line_number, line in enumerate(card_info):\n",
    "  clean_line = line.rstrip('\\n')\n",
    "  # print(f'evaluating clean_line:\\'{clean_line}\\'')\n",
    "  if not clean_line:\n",
    "    # print(f'starting card {count}')\n",
    "    i = 0\n",
    "    if count > 0:\n",
    "      # print(df)\n",
    "      cards.append(df)\n",
    "      # print(cards)\n",
    "      continue\n",
    "    else:\n",
    "      count +=1\n",
    "  else:\n",
    "    numbers = clean_line.split()\n",
    "    # print(numbers)\n",
    "    if i == 0:\n",
    "      df = pd.DataFrame(columns=(range(len(numbers))))\n",
    "      hits.append(pd.DataFrame(columns=(range(len(numbers)))))\n",
    "    df.loc[i]  = [int(number) for number in numbers]\n",
    "    # print(df)\n",
    "    i += 1\n",
    "    if line_number == end_point - 1:\n",
    "      cards.append(df)\n",
    "file.close()\n",
    "\n",
    "def is_winning_card(marks):\n",
    "  column_wins = False\n",
    "  row_wins = False\n",
    "  for i in marks.columns:\n",
    "    if marks[:][i].all():\n",
    "      column_wins = True\n",
    "  # for i in marks.index:\n",
    "  #   if marks.iloc[i, :].all():\n",
    "  #     row_wins = True\n",
    "  # above comment is functionally equivalent to below using\n",
    "  # matrix reduction to rows using axis parameter, check if any rows have all True\n",
    "  if marks.all(axis=1).any():\n",
    "    row_wins = True\n",
    "  return True if (row_wins or column_wins) else False\n",
    "called = []\n",
    "won = False\n",
    "for turn, draw in enumerate(draws):\n",
    "  if won:\n",
    "    break\n",
    "  called.append(draw)\n",
    "  for index, card in enumerate(cards):\n",
    "    marked_card = card.isin(called)\n",
    "    # print(marked_card)\n",
    "    hits[index] = marked_card\n",
    "    if is_winning_card(marked_card):\n",
    "      won = True\n",
    "      print(f'card {index} won on turn {turn} with winning draw {draw}')\n",
    "      # https://stackoverflow.com/questions/38733477/whats-the-best-way-to-sum-all-values-in-a-pandas-dataframe\n",
    "      # df.sum().sum() ignores nan and returns a float whereas df.values.sum() returns nan\n",
    "      # Filtered dataframes have nan in the filtered cells so use df.sum().sum() for this use case\n",
    "      sum = cards[index][~marked_card].sum().sum()\n",
    "      final_score = sum * draw\n",
    "      print(f'Final Score: {final_score}')\n",
    "      break\n"
   ]
  },
  {
   "cell_type": "code",
   "execution_count": 221,
   "metadata": {},
   "outputs": [
    {
     "name": "stdout",
     "output_type": "stream",
     "text": [
      "Final Score for last card to win: 31892\n"
     ]
    }
   ],
   "source": [
    "### Day 4, part 2\n",
    "import pandas as pd\n",
    "file = open(\"../data/day04.txt\", \"r\")\n",
    "draw_info = file.readline()\n",
    "draws = [int(draw) for draw in draw_info.split(',')]\n",
    "# print(draws)\n",
    "card_info = file.readlines()\n",
    "count = 0\n",
    "cards = []\n",
    "hits = []\n",
    "end_point = len(card_info)\n",
    "for line_number, line in enumerate(card_info):\n",
    "  clean_line = line.rstrip('\\n')\n",
    "  # print(f'evaluating clean_line:\\'{clean_line}\\'')\n",
    "  if not clean_line:\n",
    "    # print(f'starting card {count}')\n",
    "    i = 0\n",
    "    if count > 0:\n",
    "      # print(df)\n",
    "      cards.append(df)\n",
    "      # print(cards)\n",
    "      continue\n",
    "    else:\n",
    "      count +=1\n",
    "  else:\n",
    "    numbers = clean_line.split()\n",
    "    # print(numbers)\n",
    "    if i == 0:\n",
    "      df = pd.DataFrame(columns=(range(len(numbers))))\n",
    "      hits.append(pd.DataFrame(columns=(range(len(numbers)))))\n",
    "    df.loc[i]  = [int(number) for number in numbers]\n",
    "    # print(df)\n",
    "    i += 1\n",
    "    if line_number == end_point - 1:\n",
    "      cards.append(df)\n",
    "file.close()\n",
    "\n",
    "def is_winning_card(marks):\n",
    "  column_wins = False\n",
    "  row_wins = False\n",
    "  for i in marks.columns:\n",
    "    if marks[:][i].all():\n",
    "      column_wins = True\n",
    "  # for i in marks.index:\n",
    "  #   if marks.iloc[i, :].all():\n",
    "  #     row_wins = True\n",
    "  # above comment is functionally equivalent to below using\n",
    "  # matrix reduction to rows using axis parameter, check if any rows have all True\n",
    "  if marks.all(axis=1).any():\n",
    "    row_wins = True\n",
    "  return True if (row_wins or column_wins) else False\n",
    "called = []\n",
    "# Tried using an OrderedDict for winning_masks but couldn't get .setdefault syntax right \n",
    "winning_masks = {}\n",
    "winning_draws = {}\n",
    "winners = []\n",
    "for turn, draw in enumerate(draws):\n",
    "  called.append(draw)\n",
    "  # print(f'Turn {turn}')\n",
    "  for index, card in enumerate(cards):\n",
    "    marked_card = card.isin(called)\n",
    "    # print(marked_card)\n",
    "    hits[index] = marked_card\n",
    "    if is_winning_card(marked_card):\n",
    "      won = True\n",
    "      if index not in winning_masks.keys():\n",
    "        # print(f'card {index} won on turn {turn} with winning draw {draw}')\n",
    "        winners.append(index)\n",
    "        winning_masks[index] = marked_card\n",
    "        winning_draws[index] = draw\n",
    "  if len(winners) == len(cards):\n",
    "    break\n",
    "\n",
    "# print(winners)\n",
    "winner = winners[-1]\n",
    "# print(cards[winner])\n",
    "# print(cards[winner][~winning_masks[winner]])\n",
    "sum = cards[winner][~winning_masks[winner]].sum().sum()\n",
    "final_score = sum * winning_draws[winner]\n",
    "print(f'Final Score for last card to win: {final_score}')"
   ]
  },
  {
   "cell_type": "code",
   "execution_count": 222,
   "metadata": {},
   "outputs": [],
   "source": [
    "### scratch space\n",
    "import pandas as pd\n",
    "file = open(\"../data/day03_test.txt\", \"r\")\n",
    "string_length = 5  # 5 for test data\n",
    "data = file.readlines()\n",
    "file.close()\n",
    "\n",
    "df = pd.DataFrame(columns=(range(string_length)))\n",
    "for i, line in enumerate(data):\n",
    "  clean_line = line.rstrip('\\n')\n",
    "  df.loc[i]  = [char for char in clean_line]\n",
    "mask = [True] * len(df.index)\n",
    "# print(len(df.index))\n",
    "# #print(df[mask])\n",
    "# print(len(df[mask].index))"
   ]
  },
  {
   "cell_type": "code",
   "execution_count": 20,
   "metadata": {},
   "outputs": [
    {
     "name": "stdout",
     "output_type": "stream",
     "text": [
      "1540244\n"
     ]
    }
   ],
   "source": [
    "### Day 3, part 1\n",
    "import pandas as pd\n",
    "file = open(\"../data/day03.txt\", \"r\")\n",
    "string_length = 12  # 5 for test data\n",
    "data = file.readlines()\n",
    "file.close()\n",
    "gamma_data = ''\n",
    "epsilon_data = ''\n",
    "df = pd.DataFrame(columns=(range(string_length)))\n",
    "for i, line in enumerate(data):\n",
    "  clean_line = line.rstrip('\\n')\n",
    "  df.loc[i]  = [char for char in clean_line]\n",
    "for j in range(string_length):\n",
    "  gamma_data += df[j].value_counts().idxmax()\n",
    "  epsilon_data += df[j].value_counts().idxmin()\n",
    "gamma = int(gamma_data, 2)\n",
    "epsilon = int(epsilon_data, 2)\n",
    "power = gamma * epsilon\n",
    "print(power) "
   ]
  },
  {
   "cell_type": "code",
   "execution_count": 107,
   "metadata": {},
   "outputs": [
    {
     "name": "stdout",
     "output_type": "stream",
     "text": [
      "converged at round 12, on 010010001001 or decimal 1161\n",
      "converged at round 9, on 111000100101 or decimal 3621\n",
      "4203981\n"
     ]
    }
   ],
   "source": [
    "### Day 3, part 2\n",
    "import pandas as pd\n",
    "file = open(\"../data/day03.txt\", \"r\")\n",
    "string_length = 12  # 5 for test data; 12 for input data\n",
    "data = file.readlines()\n",
    "file.close()\n",
    "gamma_data = ''\n",
    "epsilon_data = ''\n",
    "df = pd.DataFrame(columns=(range(string_length)))\n",
    "for i, line in enumerate(data):\n",
    "  clean_line = line.rstrip('\\n')\n",
    "  df.loc[i]  = [char for char in clean_line]\n",
    "\n",
    "def find_rating(df, tie_breaker, mask, count, method):\n",
    "  if len(df[mask].index) == 1:\n",
    "    rating = ''\n",
    "    for j in range(string_length):\n",
    "      rating += df[mask][j].values[0]\n",
    "    print(f'converged at round {count}, on {rating} or decimal {int(rating, 2)}')\n",
    "    return int(rating, 2)\n",
    "  else:\n",
    "    if method == 'max':\n",
    "      criteria = df[mask][count].mode()\n",
    "      criteria = tie_breaker if (len(criteria) > 1) else df[mask][count].mode()[0]\n",
    "    else:\n",
    "      criteria = df[mask][count].value_counts().idxmin()\n",
    "      criteria = tie_breaker if (len(criteria) > 1) else df[mask][count].value_counts().idxmin()\n",
    "    addnl_mask = df[mask][count] == criteria\n",
    "    new_mask = addnl_mask if all(mask) else (mask & addnl_mask)\n",
    "    # print(f'matrix to assess column {count + 1}, chosen by {criteria}')\n",
    "    # print(df[new_mask])\n",
    "    return find_rating(df, tie_breaker, new_mask, count+1, method)\n",
    "mask = [True] * len(df.index)\n",
    "o_rate = find_rating(df, '1', mask, 0, 'max')\n",
    "c_rate = find_rating(df, '0', mask, 0, 'min')\n",
    "life_support_rating = o_rate * c_rate\n",
    "print(life_support_rating)"
   ]
  },
  {
   "cell_type": "code",
   "execution_count": 20,
   "metadata": {},
   "outputs": [
    {
     "name": "stdout",
     "output_type": "stream",
     "text": [
      "1635930\n"
     ]
    }
   ],
   "source": [
    "### Day 2, part 1\n",
    "import re\n",
    "\n",
    "file = open(\"../data/day02.txt\", \"r\")\n",
    "data = file.readlines()\n",
    "file.close()\n",
    "position = 0\n",
    "depth = 0\n",
    "for line in data:\n",
    "  parse = re.search('(\\w+) (\\d)$', line)\n",
    "  if parse.group(1) == \"forward\":\n",
    "    position += int(parse.group(2))\n",
    "  elif parse.group(1) == \"up\":\n",
    "    depth -= int(parse.group(2))\n",
    "  elif parse.group(1) == \"down\":\n",
    "    depth += int(parse.group(2))\n",
    "  else:\n",
    "    print(f'did find known keyword in {line}')\n",
    "print(position*depth)"
   ]
  },
  {
   "cell_type": "code",
   "execution_count": 23,
   "metadata": {},
   "outputs": [
    {
     "name": "stdout",
     "output_type": "stream",
     "text": [
      "1781819478\n"
     ]
    }
   ],
   "source": [
    "### Day 2, part 2\n",
    "file = open(\"../data/day02.txt\", \"r\")\n",
    "data = file.readlines()\n",
    "file.close()\n",
    "position = 0\n",
    "depth = 0\n",
    "aim = 0\n",
    "for line in data:\n",
    "  parse = re.search('(\\w+) (\\d)$', line)\n",
    "  if parse.group(1) == \"forward\":\n",
    "    position += int(parse.group(2))\n",
    "    depth += aim * int(parse.group(2))\n",
    "  elif parse.group(1) == \"up\":\n",
    "    aim -= int(parse.group(2))\n",
    "  elif parse.group(1) == \"down\":\n",
    "    aim += int(parse.group(2))\n",
    "  else:\n",
    "    print(f'did find known keyword in {line}')\n",
    "print(position*depth)"
   ]
  },
  {
   "cell_type": "code",
   "execution_count": 1,
   "metadata": {},
   "outputs": [
    {
     "name": "stdout",
     "output_type": "stream",
     "text": [
      "1715\n"
     ]
    }
   ],
   "source": [
    "### Day 1, part 1\n",
    "file = open(\"../data/day01.txt\", \"r\")\n",
    "data = file.readlines()\n",
    "file.close()\n",
    "increase_count = 0\n",
    "for x,y in zip(data, data[1:]):\n",
    "  if int(y) > int(x):\n",
    "    increase_count += 1\n",
    "print(increase_count)"
   ]
  },
  {
   "cell_type": "code",
   "execution_count": 32,
   "metadata": {},
   "outputs": [
    {
     "name": "stdout",
     "output_type": "stream",
     "text": [
      "1739\n"
     ]
    }
   ],
   "source": [
    "### Day 1, part 2\n",
    "file = open(\"../data/day01.txt\", \"r\")\n",
    "data = file.readlines()\n",
    "file.close()\n",
    "increase_count = 0\n",
    "for x,y in zip(data, data[3:]):\n",
    "  if int(y) > int(x):\n",
    "    increase_count += 1\n",
    "print(increase_count)"
   ]
  },
  {
   "cell_type": "markdown",
   "metadata": {},
   "source": [
    "## Github setup\n",
    "* create repo in github\n",
    "* git init -b main\n",
    "* git commit -m \"first commit\"\n",
    "* git remote add origin https://github.com/jlchang/AoC2021_python.git\n",
    "* git push origin main"
   ]
  }
 ],
 "metadata": {
  "interpreter": {
   "hash": "31f2aee4e71d21fbe5cf8b01ff0e069b9275f58929596ceb00d14d90e3e16cd6"
  },
  "kernelspec": {
   "display_name": "Python 3.8.2 64-bit",
   "language": "python",
   "name": "python3"
  },
  "language_info": {
   "codemirror_mode": {
    "name": "ipython",
    "version": 3
   },
   "file_extension": ".py",
   "mimetype": "text/x-python",
   "name": "python",
   "nbconvert_exporter": "python",
   "pygments_lexer": "ipython3",
   "version": "3.9.7"
  },
  "orig_nbformat": 4
 },
 "nbformat": 4,
 "nbformat_minor": 2
}
